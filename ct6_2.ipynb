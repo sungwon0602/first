{
  "nbformat": 4,
  "nbformat_minor": 0,
  "metadata": {
    "colab": {
      "provenance": [],
      "authorship_tag": "ABX9TyN071JiD25pKrdM7jSc42W6",
      "include_colab_link": true
    },
    "kernelspec": {
      "name": "python3",
      "display_name": "Python 3"
    },
    "language_info": {
      "name": "python"
    }
  },
  "cells": [
    {
      "cell_type": "markdown",
      "metadata": {
        "id": "view-in-github",
        "colab_type": "text"
      },
      "source": [
        "<a href=\"https://colab.research.google.com/github/sungwon0602/first/blob/main/ct6_2.ipynb\" target=\"_parent\"><img src=\"https://colab.research.google.com/assets/colab-badge.svg\" alt=\"Open In Colab\"/></a>"
      ]
    },
    {
      "cell_type": "code",
      "execution_count": 87,
      "metadata": {
        "colab": {
          "base_uri": "https://localhost:8080/"
        },
        "id": "0EKlI9pkcvjh",
        "outputId": "d93ae603-608b-469a-b594-6169be712a49"
      },
      "outputs": [
        {
          "output_type": "stream",
          "name": "stdout",
          "text": [
            "grade: 84\n",
            "grade: 84\n",
            "grade: 85\n",
            "grade: 86\n",
            "grade: 84\n",
            "grade: 87\n",
            "grade: 88\n",
            "grade: 87\n",
            "grade: 86\n",
            "grade: 84\n",
            "학생들의 평균은  85.5 입니다.\n"
          ]
        }
      ],
      "source": [
        "total = 0  #변수를 0으로 초기화       \n",
        "counter = 0  #counter를 0으로 초기화\n",
        "while counter < 10: #while 루프를 사용하여 학생들의 10개의 성적을 입력하고, 입력된 성적의 합을 total 변수에 누적하기\n",
        "\n",
        "  total += int(input(\"grade: \"))  #평균을 계산하여 average 변수에 합치기\n",
        "  counter += 1  #변수 초기화\n",
        "\n",
        "average = total / 10  #평균을 나누기\n",
        "print(\"학생들의 평균은 \", average, \"입니다.\")#학생 성적의 평균을 할당함"
      ]
    },
    {
      "cell_type": "code",
      "source": [],
      "metadata": {
        "id": "c38Tng_conv5"
      },
      "execution_count": null,
      "outputs": []
    },
    {
      "cell_type": "markdown",
      "source": [
        "total = 0\n",
        "counter = 0 \n",
        "\n",
        "while counter < 10:\n",
        "    total += int(input(\"grade: \"))\n",
        "    counter += 1\n",
        "\n",
        "average = total / 10\n",
        "print(\"학생들의 평균은 \", average, \"입니다.\")"
      ],
      "metadata": {
        "id": "G7FK2mBhm9M6"
      }
    },
    {
      "cell_type": "markdown",
      "source": [],
      "metadata": {
        "id": "aE_C3HTZnEKR"
      }
    }
  ]
}